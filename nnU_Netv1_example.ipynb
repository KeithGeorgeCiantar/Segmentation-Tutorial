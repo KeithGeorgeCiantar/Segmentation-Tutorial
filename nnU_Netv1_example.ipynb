{
  "nbformat": 4,
  "nbformat_minor": 0,
  "metadata": {
    "colab": {
      "provenance": []
    },
    "kernelspec": {
      "name": "python3",
      "display_name": "Python 3"
    },
    "language_info": {
      "name": "python"
    }
  },
  "cells": [
    {
      "cell_type": "markdown",
      "source": [
        "# Install nnU-Netv1\n",
        "\n",
        "There will be an issue with argparse. Just click `Restart Session` and then you can go on with the next section."
      ],
      "metadata": {
        "id": "1sIQWGU-cL7n"
      }
    },
    {
      "cell_type": "code",
      "execution_count": null,
      "metadata": {
        "id": "qmi1rZJRYHSX"
      },
      "outputs": [],
      "source": [
        "!pip install git+https://github.com/MIC-DKFZ/nnUNet.git@nnunetv1"
      ]
    },
    {
      "cell_type": "markdown",
      "source": [
        "# Check available models"
      ],
      "metadata": {
        "id": "9okN5QNwgKZy"
      }
    },
    {
      "cell_type": "code",
      "source": [
        "!nnUNet_print_available_pretrained_models"
      ],
      "metadata": {
        "id": "gO7cr0omY0fz"
      },
      "execution_count": null,
      "outputs": []
    },
    {
      "cell_type": "markdown",
      "source": [
        "# Set environment variable"
      ],
      "metadata": {
        "id": "FVN6MHwcgNVw"
      }
    },
    {
      "cell_type": "code",
      "source": [
        "%env RESULTS_FOLDER=RESULTS_FOLDER\n",
        "!mkdir RESULTS_FOLDER\n",
        "!mkdir RESULTS_FOLDER/nnUNet"
      ],
      "metadata": {
        "id": "XrMkL86dcB0O"
      },
      "execution_count": null,
      "outputs": []
    },
    {
      "cell_type": "markdown",
      "source": [
        "# Download pretrained model"
      ],
      "metadata": {
        "id": "SLw58aPugWk_"
      }
    },
    {
      "cell_type": "code",
      "source": [
        "# This is how you would normally do it but this does not work :(\n",
        "# !nnUNet_download_pretrained_model Task004_Hippocampus"
      ],
      "metadata": {
        "id": "9FpHD_gnc7fS"
      },
      "execution_count": null,
      "outputs": []
    },
    {
      "cell_type": "code",
      "source": [
        "!wget -O ./RESULTS_FOLDER/nnUNet/Task004_Hippocampus.zip https://zenodo.org/record/4003545/files/Task004_Hippocampus.zip?download=1"
      ],
      "metadata": {
        "id": "A7CkJnDne9CS"
      },
      "execution_count": null,
      "outputs": []
    },
    {
      "cell_type": "code",
      "source": [
        "!unzip ./RESULTS_FOLDER/nnUNet/Task004_Hippocampus.zip -d ./RESULTS_FOLDER/nnUNet"
      ],
      "metadata": {
        "id": "moosZ2g4fOuY"
      },
      "execution_count": null,
      "outputs": []
    },
    {
      "cell_type": "markdown",
      "source": [
        "# Download data"
      ],
      "metadata": {
        "id": "UlHWFYCchF0L"
      }
    },
    {
      "cell_type": "code",
      "source": [
        "!wget -O Task04_Hippocampus.tar https://drive.google.com/uc?id=1RzPB1_bqzQhlWvU-YGvZzhx2omcDh38C&export=download"
      ],
      "metadata": {
        "id": "dbmBYnSbfUUV"
      },
      "execution_count": null,
      "outputs": []
    },
    {
      "cell_type": "code",
      "source": [
        "!tar -xvf Task04_Hippocampus.tar"
      ],
      "metadata": {
        "id": "HcBiGl9chaXd"
      },
      "execution_count": null,
      "outputs": []
    },
    {
      "cell_type": "markdown",
      "source": [
        "# View data sample"
      ],
      "metadata": {
        "id": "4ApRipReh0Bg"
      }
    },
    {
      "cell_type": "code",
      "source": [
        "import numpy as np\n",
        "import nibabel as nib\n",
        "import matplotlib.pyplot as plt\n",
        "!pip install celluloid\n",
        "from celluloid import Camera\n",
        "from IPython.display import HTML"
      ],
      "metadata": {
        "id": "Kh1Tbh2LxeKq"
      },
      "execution_count": null,
      "outputs": []
    },
    {
      "cell_type": "code",
      "source": [
        "sample_number = '001'"
      ],
      "metadata": {
        "id": "uX1NkgL4lTEM"
      },
      "execution_count": null,
      "outputs": []
    },
    {
      "cell_type": "code",
      "source": [
        "image_1 = nib.load(f'./Task04_Hippocampus/imagesTr/hippocampus_{sample_number}.nii.gz')\n",
        "mask_1 = nib.load(f'./Task04_Hippocampus/labelsTr/hippocampus_{sample_number}.nii.gz')\n",
        "\n",
        "image_1_arr = image_1.get_fdata()\n",
        "mask_1_arr = mask_1.get_fdata()\n",
        "\n",
        "print('Image shape:', image_1_arr.shape)\n",
        "print('Mask shape:', mask_1_arr.shape)"
      ],
      "metadata": {
        "id": "qtnB_e9Th5Ge"
      },
      "execution_count": null,
      "outputs": []
    },
    {
      "cell_type": "code",
      "source": [
        "fig, axs = plt.subplots(1, 3, figsize=(7, 5))\n",
        "camera = Camera(fig)\n",
        "axs = axs.ravel()\n",
        "\n",
        "for slice_number in range(image_1_arr.shape[1]):\n",
        "    axs[0].imshow(image_1_arr[:, slice_number, :], cmap='gray')\n",
        "    axs[0].set_title('Input Image')\n",
        "    axs[0].axis('off')\n",
        "\n",
        "    axs[1].imshow(mask_1_arr[:, slice_number, :], cmap='gray')\n",
        "    axs[1].set_title('True Mask')\n",
        "    axs[1].axis('off')\n",
        "\n",
        "    axs[2].imshow(image_1_arr[:, slice_number, :], cmap='gray')\n",
        "    axs[2].imshow(mask_1_arr[:, slice_number, :], cmap='gray', alpha=0.4)\n",
        "    axs[2].set_title('Overlaid Mask')\n",
        "    axs[2].axis('off')\n",
        "\n",
        "    plt.ioff()\n",
        "    camera.snap()"
      ],
      "metadata": {
        "id": "wRglaUWWiCwO"
      },
      "execution_count": null,
      "outputs": []
    },
    {
      "cell_type": "code",
      "source": [
        "animation_before = camera.animate()\n",
        "HTML(animation_before.to_html5_video())"
      ],
      "metadata": {
        "id": "TqEKLnRj4c0B"
      },
      "execution_count": null,
      "outputs": []
    },
    {
      "cell_type": "code",
      "source": [
        "!mkdir ./Task04_Hippocampus/SUBSET_IN\n",
        "!mkdir ./Task04_Hippocampus/SUBSET_OUT\n",
        "!cp ./Task04_Hippocampus/imagesTr/hippocampus_{sample_number}.nii.gz ./Task04_Hippocampus/SUBSET_IN\n",
        "!mv ./Task04_Hippocampus/SUBSET_IN/hippocampus_{sample_number}.nii.gz ./Task04_Hippocampus/SUBSET_IN/hippocampus_{sample_number}_0000.nii.gz"
      ],
      "metadata": {
        "id": "W7RzipPPiqIE"
      },
      "execution_count": null,
      "outputs": []
    },
    {
      "cell_type": "markdown",
      "source": [
        "# Run segmentation model"
      ],
      "metadata": {
        "id": "727QWIffjaNP"
      }
    },
    {
      "cell_type": "code",
      "source": [
        "!nnUNet_predict -i ./Task04_Hippocampus/SUBSET_IN/ -o ./Task04_Hippocampus/SUBSET_OUT -t Task004_Hippocampus -m 3d_fullres"
      ],
      "metadata": {
        "id": "0MnM5V6LjXxW"
      },
      "execution_count": null,
      "outputs": []
    },
    {
      "cell_type": "markdown",
      "source": [
        "# View results"
      ],
      "metadata": {
        "id": "ooHih1NPj5N3"
      }
    },
    {
      "cell_type": "code",
      "source": [
        "image_1 = nib.load(f'./Task04_Hippocampus/imagesTr/hippocampus_{sample_number}.nii.gz')\n",
        "mask_1 = nib.load(f'./Task04_Hippocampus/labelsTr/hippocampus_{sample_number}.nii.gz')\n",
        "pred_1 = nib.load(f'./Task04_Hippocampus/SUBSET_OUT/hippocampus_{sample_number}.nii.gz')\n",
        "\n",
        "image_1_arr = image_1.get_fdata()\n",
        "mask_1_arr = mask_1.get_fdata()\n",
        "pred_1_arr = pred_1.get_fdata()\n",
        "\n",
        "print('Image shape:', image_1_arr.shape)\n",
        "print('Mask shape:', mask_1_arr.shape)\n",
        "print('Predicted mask shape:', pred_1_arr.shape)"
      ],
      "metadata": {
        "id": "_W2J-3w1jVAQ"
      },
      "execution_count": null,
      "outputs": []
    },
    {
      "cell_type": "code",
      "source": [
        "fig, axs = plt.subplots(2, 3, figsize=(7, 4.5))\n",
        "camera = Camera(fig)\n",
        "axs = axs.ravel()\n",
        "\n",
        "for slice_number in range(image_1_arr.shape[1]):\n",
        "    axs[0].imshow(image_1_arr[:, slice_number, :], cmap='gray')\n",
        "    axs[0].set_title('Input Image')\n",
        "    axs[0].axis('off')\n",
        "\n",
        "    axs[1].imshow(mask_1_arr[:, slice_number, :], cmap='gray')\n",
        "    axs[1].set_title('True Mask')\n",
        "    axs[1].axis('off')\n",
        "\n",
        "    axs[2].imshow(image_1_arr[:, slice_number, :], cmap='gray')\n",
        "    axs[2].imshow(mask_1_arr[:, slice_number, :], cmap='gray', alpha=0.4)\n",
        "    axs[2].set_title('Overlaid True Mask')\n",
        "    axs[2].axis('off')\n",
        "\n",
        "    axs[3].axis('off')\n",
        "\n",
        "    axs[4].imshow(pred_1_arr[:, slice_number, :], cmap='gray')\n",
        "    axs[4].set_title('Predicted Mask')\n",
        "    axs[4].axis('off')\n",
        "\n",
        "    axs[5].imshow(image_1_arr[:, slice_number, :], cmap='gray')\n",
        "    axs[5].imshow(pred_1_arr[:, slice_number, :], cmap='gray', alpha=0.4)\n",
        "    axs[5].set_title('Overlaid Predicted Mask')\n",
        "    axs[5].axis('off')\n",
        "\n",
        "    plt.ioff()\n",
        "    camera.snap()"
      ],
      "metadata": {
        "id": "gYYzqDlFkRSP"
      },
      "execution_count": null,
      "outputs": []
    },
    {
      "cell_type": "code",
      "source": [
        "animation_after = camera.animate()\n",
        "HTML(animation_after.to_html5_video())"
      ],
      "metadata": {
        "id": "ZNwFEnO-ldSb"
      },
      "execution_count": null,
      "outputs": []
    },
    {
      "cell_type": "code",
      "source": [],
      "metadata": {
        "id": "5aALdpuI6n-K"
      },
      "execution_count": null,
      "outputs": []
    }
  ]
}